{
 "cells": [
  {
   "attachments": {},
   "cell_type": "markdown",
   "metadata": {},
   "source": [
    "# <font color='orange'> Lab | Inferential statistics </font>"
   ]
  },
  {
   "attachments": {},
   "cell_type": "markdown",
   "metadata": {},
   "source": [
    "- Instructions\n",
    "- It is assumed that the mean systolic blood pressure is μ = 120 mm Hg. In the Honolulu Heart Study, a sample of n = 100 people had an average systolic blood pressure of 130.1 mm Hg with a standard deviation of 21.21 mm Hg. Is the group significantly different (with respect to systolic blood pressure!) from the regular population?\n",
    "- Set up the hypothesis test.\n",
    "- Write down all the steps followed for setting up the test.\n",
    "- Calculate the test statistic by hand and also code it in Python. It should be 4.76190. We will take a look at how to make decisions based on this calculated value."
   ]
  },
  {
   "attachments": {},
   "cell_type": "markdown",
   "metadata": {},
   "source": [
    "La hipotesis nula es H0: µ = 120 \n",
    "La hipotesis alternativa es µ =! 120\n",
    "\n",
    "Ya que la muestra se distribuye normal, podemos utilizar el Estadistico T\n",
    "\n",
    "T = (X - µ / s/raiz(n))  X = es la media muestral, s= desviacion estandar, y la n es el tamaño de la muestra\n",
    "\n",
    "Los grados de libertad utilizados en esta prueba es de n-1\n",
    "\n",
    "T = (130.1 - 120 ) / (21.21 / raiz(100) \n",
    "\n",
    "T = 4.761904762\n"
   ]
  },
  {
   "cell_type": "code",
   "execution_count": 1,
   "metadata": {},
   "outputs": [],
   "source": [
    "\n",
    "import numpy as np\n",
    "import scipy.stats as stats"
   ]
  },
  {
   "cell_type": "code",
   "execution_count": 2,
   "metadata": {},
   "outputs": [
    {
     "name": "stdout",
     "output_type": "stream",
     "text": [
      "Statistic is:  4.761904761904759\n"
     ]
    }
   ],
   "source": [
    "from statistics import math\n",
    "\n",
    "sample_mean = 130.1\n",
    "pop_mean = 120 # population mean\n",
    "pop_std = 21.21 #el áncho de la distribución\n",
    "n = 100 #muestra\n",
    "statistic = (sample_mean - pop_mean)/(pop_std/math.sqrt(n))\n",
    "print(\"Statistic is: \", statistic)\n"
   ]
  },
  {
   "cell_type": "code",
   "execution_count": 10,
   "metadata": {},
   "outputs": [
    {
     "data": {
      "text/plain": [
       "3.2813509086043083e-06"
      ]
     },
     "execution_count": 10,
     "metadata": {},
     "output_type": "execute_result"
    }
   ],
   "source": [
    "# Importing the library\n",
    "import scipy.stats\n",
    "  \n",
    "# Determine the p-value\n",
    "scipy.stats.t.sf(abs(statistic), df=99) # el pvalue es menor a 0.05, por lo tanto se rechaza la hipotesis  nula\n",
    "# si el t es negativo, entonces 1-pvalue, nos ahorramos este con el abs en la formula"
   ]
  }
 ],
 "metadata": {
  "kernelspec": {
   "display_name": "base",
   "language": "python",
   "name": "python3"
  },
  "language_info": {
   "codemirror_mode": {
    "name": "ipython",
    "version": 3
   },
   "file_extension": ".py",
   "mimetype": "text/x-python",
   "name": "python",
   "nbconvert_exporter": "python",
   "pygments_lexer": "ipython3",
   "version": "3.9.13"
  },
  "orig_nbformat": 4,
  "vscode": {
   "interpreter": {
    "hash": "f6a2100a7efc7529035a40d3ea72bc8e547ceb70664fb95a465d233cbcc6110c"
   }
  }
 },
 "nbformat": 4,
 "nbformat_minor": 2
}
