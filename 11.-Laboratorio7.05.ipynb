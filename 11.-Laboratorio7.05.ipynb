{
 "cells": [
  {
   "attachments": {},
   "cell_type": "markdown",
   "metadata": {},
   "source": [
    "# <font color='orange'> Lab | Inferential statistics - ANOVA </font>"
   ]
  },
  {
   "attachments": {},
   "cell_type": "markdown",
   "metadata": {},
   "source": [
    "- Part 1\n",
    "- In this activity, we will look at another example. Your task is to understand the problem and write down all the steps to set up ANOVA. After the next lesson, we will ask you to solve this problem using Python. Here are the steps that you would need to work on: - Null hypothesis - Alternate hypothesis - Level of significance - Test statistic - P-value - F table\n",
    "\n",
    "- Context\n",
    "- Suppose you are working as an analyst in a microprocessor chip manufacturing plant. You have been given the task of analyzing a plasma etching process with respect to changing Power (in Watts) of the plasma beam. Data was collected and provided to you to conduct statistical analysis and check if changing the power of the plasma beam has any effect on the etching rate by the machine. You will conduct ANOVA and check if there is any difference in the mean etching rate for different levels of power. You can find the data anova_lab_data.xlsx file in the files_for_lab folder\n",
    "\n",
    "- State the null hypothesis\n",
    "- State the alternate hypothesis\n",
    "- What is the significance level\n",
    "- What are the degrees of freedom of model, error terms, and total DoF\n",
    "- Data was collected randomly and provided to you in the table as shown: link to the image - Data"
   ]
  },
  {
   "attachments": {},
   "cell_type": "markdown",
   "metadata": {},
   "source": [
    "- State the null hypotesis\n",
    "- H0 =  no existe diferencia significativa entre la media de los grupos µ1 = µu2\n",
    "- HA = es que al menos un grupo difiere significativamente de la media global de la variable dependiente"
   ]
  },
  {
   "attachments": {},
   "cell_type": "markdown",
   "metadata": {},
   "source": [
    "- What is the significance level\n",
    "- El nivel de significación generalmente se establece en 0.05 o 5%. Esto significa que sus resultados solo tienen un 5% de probabilidad de ocurrir, o menos,"
   ]
  },
  {
   "attachments": {},
   "cell_type": "markdown",
   "metadata": {},
   "source": [
    "- What are the degrees of freedom of model, error terms, and total DoF\n",
    "- Los grados de libertad de una estimación son el número de piezas de información independientes que se usaron para calcular la estimación.\n",
    "- Los errores o residuos son los segmentos de puntuaciones que no se tienen en cuenta en el análisis. En el análisis de varianza, se supone que los errores son independientes entre sí y normalmente se distribuyen alrededor de las medias de la muestra. También se supone que están distribuidas de manera idéntica para cada muestra (ya que el análisis busca solo una diferencia significativa entre las medias de las muestras), lo que se conoce como el supuesto de homogeneidad de las varianzas.\n",
    "- El df(Residual) es el tamaño de la muestra menos la cantidad de parámetros que se estiman, por lo que se convierte en df(Residual) = n - (k+1) o df(Residual) = n - k - 1.\n",
    "\n",
    "# Para este ejercico\n",
    "- DF= k-1=3-1=2\n",
    "- DF (RESIDUALES)= N-k = 15-3 = 12\n",
    "- DF(TOTAL) = N-1= 15-1 = 14\n"
   ]
  },
  {
   "attachments": {},
   "cell_type": "markdown",
   "metadata": {},
   "source": [
    " # <font color='orange'>Part 2 </font>\n",
    "- In this section, use Python to conduct ANOVA.\n",
    "- What conclusions can you draw from the experiment and why?"
   ]
  },
  {
   "cell_type": "code",
   "execution_count": 18,
   "metadata": {},
   "outputs": [],
   "source": [
    "import pandas as pd\n",
    "import statsmodels.api as sm\n",
    "from statsmodels.formula.api import ols"
   ]
  },
  {
   "cell_type": "code",
   "execution_count": 19,
   "metadata": {},
   "outputs": [
    {
     "data": {
      "text/html": [
       "<div>\n",
       "<style scoped>\n",
       "    .dataframe tbody tr th:only-of-type {\n",
       "        vertical-align: middle;\n",
       "    }\n",
       "\n",
       "    .dataframe tbody tr th {\n",
       "        vertical-align: top;\n",
       "    }\n",
       "\n",
       "    .dataframe thead th {\n",
       "        text-align: right;\n",
       "    }\n",
       "</style>\n",
       "<table border=\"1\" class=\"dataframe\">\n",
       "  <thead>\n",
       "    <tr style=\"text-align: right;\">\n",
       "      <th></th>\n",
       "      <th>Power</th>\n",
       "      <th>Etching Rate</th>\n",
       "    </tr>\n",
       "  </thead>\n",
       "  <tbody>\n",
       "    <tr>\n",
       "      <th>0</th>\n",
       "      <td>160 W</td>\n",
       "      <td>5.43</td>\n",
       "    </tr>\n",
       "    <tr>\n",
       "      <th>1</th>\n",
       "      <td>180 W</td>\n",
       "      <td>6.24</td>\n",
       "    </tr>\n",
       "    <tr>\n",
       "      <th>2</th>\n",
       "      <td>200 W</td>\n",
       "      <td>8.79</td>\n",
       "    </tr>\n",
       "    <tr>\n",
       "      <th>3</th>\n",
       "      <td>160 W</td>\n",
       "      <td>5.71</td>\n",
       "    </tr>\n",
       "    <tr>\n",
       "      <th>4</th>\n",
       "      <td>180 W</td>\n",
       "      <td>6.71</td>\n",
       "    </tr>\n",
       "    <tr>\n",
       "      <th>5</th>\n",
       "      <td>200 W</td>\n",
       "      <td>9.20</td>\n",
       "    </tr>\n",
       "    <tr>\n",
       "      <th>6</th>\n",
       "      <td>160 W</td>\n",
       "      <td>6.22</td>\n",
       "    </tr>\n",
       "    <tr>\n",
       "      <th>7</th>\n",
       "      <td>180 W</td>\n",
       "      <td>5.98</td>\n",
       "    </tr>\n",
       "    <tr>\n",
       "      <th>8</th>\n",
       "      <td>200 W</td>\n",
       "      <td>7.90</td>\n",
       "    </tr>\n",
       "    <tr>\n",
       "      <th>9</th>\n",
       "      <td>160 W</td>\n",
       "      <td>6.01</td>\n",
       "    </tr>\n",
       "    <tr>\n",
       "      <th>10</th>\n",
       "      <td>180 W</td>\n",
       "      <td>5.66</td>\n",
       "    </tr>\n",
       "    <tr>\n",
       "      <th>11</th>\n",
       "      <td>200 W</td>\n",
       "      <td>8.15</td>\n",
       "    </tr>\n",
       "    <tr>\n",
       "      <th>12</th>\n",
       "      <td>160 W</td>\n",
       "      <td>5.59</td>\n",
       "    </tr>\n",
       "    <tr>\n",
       "      <th>13</th>\n",
       "      <td>180 W</td>\n",
       "      <td>6.60</td>\n",
       "    </tr>\n",
       "    <tr>\n",
       "      <th>14</th>\n",
       "      <td>200 W</td>\n",
       "      <td>7.55</td>\n",
       "    </tr>\n",
       "  </tbody>\n",
       "</table>\n",
       "</div>"
      ],
      "text/plain": [
       "   Power   Etching Rate\n",
       "0   160 W          5.43\n",
       "1   180 W          6.24\n",
       "2   200 W          8.79\n",
       "3   160 W          5.71\n",
       "4   180 W          6.71\n",
       "5   200 W          9.20\n",
       "6   160 W          6.22\n",
       "7   180 W          5.98\n",
       "8   200 W          7.90\n",
       "9   160 W          6.01\n",
       "10  180 W          5.66\n",
       "11  200 W          8.15\n",
       "12  160 W          5.59\n",
       "13  180 W          6.60\n",
       "14  200 W          7.55"
      ]
     },
     "execution_count": 19,
     "metadata": {},
     "output_type": "execute_result"
    }
   ],
   "source": [
    "data=pd.read_excel('anova_lab_data.xlsx')\n",
    "data"
   ]
  },
  {
   "cell_type": "code",
   "execution_count": 20,
   "metadata": {},
   "outputs": [],
   "source": [
    "data=data.set_axis(['power','etching_rate'], axis=1)"
   ]
  },
  {
   "cell_type": "code",
   "execution_count": 21,
   "metadata": {},
   "outputs": [
    {
     "data": {
      "text/plain": [
       "<AxesSubplot:title={'center':'etching_rate'}, xlabel='power'>"
      ]
     },
     "execution_count": 21,
     "metadata": {},
     "output_type": "execute_result"
    },
    {
     "data": {
      "image/png": "[encoded data removed]",
      "text/plain": [
       "<Figure size 640x480 with 1 Axes>"
      ]
     },
     "metadata": {},
     "output_type": "display_data"
    }
   ],
   "source": [
    "data.boxplot('etching_rate', by='power')\n",
    "# eatchin rate as the dependant variable \n",
    "# power as the independant variable"
   ]
  },
  {
   "cell_type": "code",
   "execution_count": 22,
   "metadata": {},
   "outputs": [
    {
     "name": "stdout",
     "output_type": "stream",
     "text": [
      "             sum_sq    df          F    PR(>F)\n",
      "power     18.176653   2.0  36.878955  0.000008\n",
      "Residual   2.957240  12.0        NaN       NaN\n"
     ]
    }
   ],
   "source": [
    "# Lo del proximo lab uusing statsmodel\n",
    "model = ols('etching_rate~power', data= data ).fit()\n",
    "aov_table = sm.stats.anova_lm(model, typ=2)\n",
    "print(aov_table)\n",
    "\n",
    "# como la p<0.05, es probable que la energia  tenga un efecto significativo en el proceso de grabado con plasma"
   ]
  }
 ],
 "metadata": {
  "kernelspec": {
   "display_name": "base",
   "language": "python",
   "name": "python3"
  },
  "language_info": {
   "codemirror_mode": {
    "name": "ipython",
    "version": 3
   },
   "file_extension": ".py",
   "mimetype": "text/x-python",
   "name": "python",
   "nbconvert_exporter": "python",
   "pygments_lexer": "ipython3",
   "version": "3.9.13"
  },
  "orig_nbformat": 4,
  "vscode": {
   "interpreter": {
    "hash": "f6a2100a7efc7529035a40d3ea72bc8e547ceb70664fb95a465d233cbcc6110c"
   }
  }
 },
 "nbformat": 4,
 "nbformat_minor": 2
}
